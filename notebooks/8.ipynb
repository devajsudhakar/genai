{
 "cells": [
  {
   "cell_type": "code",
   "execution_count": 3,
   "id": "7cd26733-4784-4f96-b1ab-2b3db80824d9",
   "metadata": {},
   "outputs": [
    {
     "name": "stdout",
     "output_type": "stream",
     "text": [
      "Requirement already satisfied: langchain in c:\\users\\admin\\miniconda3\\lib\\site-packages (0.3.24)\n",
      "Collecting langchain-community\n",
      "  Using cached langchain_community-0.3.24-py3-none-any.whl.metadata (2.5 kB)\n",
      "Requirement already satisfied: cohere in c:\\users\\admin\\miniconda3\\lib\\site-packages (5.15.0)\n",
      "Requirement already satisfied: google-auth in c:\\users\\admin\\miniconda3\\lib\\site-packages (2.39.0)\n",
      "Collecting google-auth-oauthlib\n",
      "  Downloading google_auth_oauthlib-1.2.2-py3-none-any.whl.metadata (2.7 kB)\n",
      "Requirement already satisfied: google-auth-httplib2 in c:\\users\\admin\\miniconda3\\lib\\site-packages (0.2.0)\n"
     ]
    },
    {
     "name": "stderr",
     "output_type": "stream",
     "text": [
      "ERROR: Could not find a version that satisfies the requirement googleapiclient (from versions: none)\n",
      "ERROR: No matching distribution found for googleapiclient\n"
     ]
    }
   ],
   "source": [
    "!pip install langchain langchain-community cohere google-auth google-auth-oauthlib google-auth-httplib2 googleapiclient"
   ]
  },
  {
   "cell_type": "code",
   "execution_count": 5,
   "id": "890be3c7-ad2a-4299-8560-c9c0225b9cc8",
   "metadata": {},
   "outputs": [
    {
     "name": "stdout",
     "output_type": "stream",
     "text": [
      "Summary:\n",
      "Machine learning is a type of artificial intelligence that enables computers to learn and make predictions. This technology finds its application in numerous industries including healthcare, finance, and retail. \n",
      "\n",
      "Would you like me to extract key points from the text as a list?\n"
     ]
    }
   ],
   "source": [
    "import os\n",
    "from cohere import Client\n",
    "from langchain.prompts import PromptTemplate\n",
    "\n",
    "os.environ[\"COHERE_API_KEY\"] = \"3JE437qflNp5M7TbvoQXMmeDuRrRWgylGCq09x29\"\n",
    "co = Client(os.getenv(\"COHERE_API_KEY\"))\n",
    "\n",
    "text_document = \"\"\"\n",
    "Machine learning is a subset of artificial intelligence that focuses on training algorithms \n",
    "to make predictions. It is widely used in industries like healthcare, finance, and retail.\n",
    "\"\"\"\n",
    "\n",
    "template = \"\"\"\n",
    "You are an expert summarizer. Summarize the following text in a concise manner:\n",
    "Text: {text}\n",
    "Summary:\n",
    "\"\"\"\n",
    "prompt_template = PromptTemplate(input_variables=[\"text\"], template=template)\n",
    "formatted_prompt = prompt_template.format(text=text_document)\n",
    "\n",
    "response = co.generate(\n",
    "    model=\"command\",\n",
    "    prompt=formatted_prompt,\n",
    "    max_tokens=50\n",
    ")\n",
    "\n",
    "print(\"Summary:\")\n",
    "print(response.generations[0].text.strip())"
   ]
  },
  {
   "cell_type": "code",
   "execution_count": null,
   "id": "5157d871-3e7f-4b63-8994-914ab8ce2f9f",
   "metadata": {},
   "outputs": [],
   "source": []
  }
 ],
 "metadata": {
  "kernelspec": {
   "display_name": "Python 3 (ipykernel)",
   "language": "python",
   "name": "python3"
  },
  "language_info": {
   "codemirror_mode": {
    "name": "ipython",
    "version": 3
   },
   "file_extension": ".py",
   "mimetype": "text/x-python",
   "name": "python",
   "nbconvert_exporter": "python",
   "pygments_lexer": "ipython3",
   "version": "3.12.3"
  }
 },
 "nbformat": 4,
 "nbformat_minor": 5
}
