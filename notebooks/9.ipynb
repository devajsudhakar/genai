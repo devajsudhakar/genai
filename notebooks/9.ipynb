{
 "cells": [
  {
   "cell_type": "code",
   "execution_count": 12,
   "id": "8415a7d6-19d0-42f4-95bf-9d5a703bf175",
   "metadata": {},
   "outputs": [
    {
     "name": "stdout",
     "output_type": "stream",
     "text": [
      "Requirement already satisfied: wikipedia in c:\\users\\admin\\miniconda3\\lib\\site-packages (1.4.0)\n",
      "Requirement already satisfied: cohere in c:\\users\\admin\\miniconda3\\lib\\site-packages (5.15.0)\n",
      "Requirement already satisfied: pydantic in c:\\users\\admin\\miniconda3\\lib\\site-packages (2.11.3)\n",
      "Requirement already satisfied: beautifulsoup4 in c:\\users\\admin\\miniconda3\\lib\\site-packages (from wikipedia) (4.12.3)\n",
      "Requirement already satisfied: requests<3.0.0,>=2.0.0 in c:\\users\\admin\\miniconda3\\lib\\site-packages (from wikipedia) (2.32.3)\n",
      "Requirement already satisfied: fastavro<2.0.0,>=1.9.4 in c:\\users\\admin\\miniconda3\\lib\\site-packages (from cohere) (1.11.1)\n",
      "Requirement already satisfied: httpx>=0.21.2 in c:\\users\\admin\\miniconda3\\lib\\site-packages (from cohere) (0.27.0)\n",
      "Requirement already satisfied: httpx-sse==0.4.0 in c:\\users\\admin\\miniconda3\\lib\\site-packages (from cohere) (0.4.0)\n",
      "Requirement already satisfied: pydantic-core<3.0.0,>=2.18.2 in c:\\users\\admin\\miniconda3\\lib\\site-packages (from cohere) (2.33.1)\n",
      "Requirement already satisfied: tokenizers<1,>=0.15 in c:\\users\\admin\\miniconda3\\lib\\site-packages (from cohere) (0.21.1)\n",
      "Requirement already satisfied: types-requests<3.0.0,>=2.0.0 in c:\\users\\admin\\miniconda3\\lib\\site-packages (from cohere) (2.32.0.20250515)\n",
      "Requirement already satisfied: typing_extensions>=4.0.0 in c:\\users\\admin\\miniconda3\\lib\\site-packages (from cohere) (4.12.2)\n",
      "Requirement already satisfied: annotated-types>=0.6.0 in c:\\users\\admin\\miniconda3\\lib\\site-packages (from pydantic) (0.7.0)\n",
      "Requirement already satisfied: typing-inspection>=0.4.0 in c:\\users\\admin\\miniconda3\\lib\\site-packages (from pydantic) (0.4.0)\n",
      "Requirement already satisfied: anyio in c:\\users\\admin\\miniconda3\\lib\\site-packages (from httpx>=0.21.2->cohere) (4.7.0)\n",
      "Requirement already satisfied: certifi in c:\\users\\admin\\miniconda3\\lib\\site-packages (from httpx>=0.21.2->cohere) (2025.4.26)\n",
      "Requirement already satisfied: httpcore==1.* in c:\\users\\admin\\miniconda3\\lib\\site-packages (from httpx>=0.21.2->cohere) (1.0.2)\n",
      "Requirement already satisfied: idna in c:\\users\\admin\\miniconda3\\lib\\site-packages (from httpx>=0.21.2->cohere) (3.7)\n",
      "Requirement already satisfied: sniffio in c:\\users\\admin\\miniconda3\\lib\\site-packages (from httpx>=0.21.2->cohere) (1.3.0)\n",
      "Requirement already satisfied: h11<0.15,>=0.13 in c:\\users\\admin\\miniconda3\\lib\\site-packages (from httpcore==1.*->httpx>=0.21.2->cohere) (0.14.0)\n",
      "Requirement already satisfied: charset-normalizer<4,>=2 in c:\\users\\admin\\miniconda3\\lib\\site-packages (from requests<3.0.0,>=2.0.0->wikipedia) (3.3.2)\n",
      "Requirement already satisfied: urllib3<3,>=1.21.1 in c:\\users\\admin\\miniconda3\\lib\\site-packages (from requests<3.0.0,>=2.0.0->wikipedia) (2.2.2)\n",
      "Requirement already satisfied: huggingface-hub<1.0,>=0.16.4 in c:\\users\\admin\\miniconda3\\lib\\site-packages (from tokenizers<1,>=0.15->cohere) (0.32.2)\n",
      "Requirement already satisfied: soupsieve>1.2 in c:\\users\\admin\\miniconda3\\lib\\site-packages (from beautifulsoup4->wikipedia) (2.5)\n",
      "Requirement already satisfied: filelock in c:\\users\\admin\\miniconda3\\lib\\site-packages (from huggingface-hub<1.0,>=0.16.4->tokenizers<1,>=0.15->cohere) (3.18.0)\n",
      "Requirement already satisfied: fsspec>=2023.5.0 in c:\\users\\admin\\miniconda3\\lib\\site-packages (from huggingface-hub<1.0,>=0.16.4->tokenizers<1,>=0.15->cohere) (2025.5.1)\n",
      "Requirement already satisfied: packaging>=20.9 in c:\\users\\admin\\miniconda3\\lib\\site-packages (from huggingface-hub<1.0,>=0.16.4->tokenizers<1,>=0.15->cohere) (24.1)\n",
      "Requirement already satisfied: pyyaml>=5.1 in c:\\users\\admin\\miniconda3\\lib\\site-packages (from huggingface-hub<1.0,>=0.16.4->tokenizers<1,>=0.15->cohere) (6.0.2)\n",
      "Requirement already satisfied: tqdm>=4.42.1 in c:\\users\\admin\\miniconda3\\lib\\site-packages (from huggingface-hub<1.0,>=0.16.4->tokenizers<1,>=0.15->cohere) (4.66.4)\n",
      "Requirement already satisfied: colorama in c:\\users\\admin\\miniconda3\\lib\\site-packages (from tqdm>=4.42.1->huggingface-hub<1.0,>=0.16.4->tokenizers<1,>=0.15->cohere) (0.4.6)\n"
     ]
    }
   ],
   "source": [
    "!pip install wikipedia cohere pydantic"
   ]
  },
  {
   "cell_type": "code",
   "execution_count": 13,
   "id": "386cb0ea-5aee-4eb7-ae14-46246a53ec7c",
   "metadata": {},
   "outputs": [],
   "source": [
    "from typing import List\n",
    "from pydantic import BaseModel\n",
    "import wikipedia\n",
    "import cohere\n",
    "import json"
   ]
  },
  {
   "cell_type": "code",
   "execution_count": 14,
   "id": "8bb19ce8-949d-4e2d-9741-a83d8bc15d47",
   "metadata": {},
   "outputs": [],
   "source": [
    "co = cohere.Client(\"3JE437qflNp5M7TbvoQXMmeDuRrRWgylGCq09x29\")"
   ]
  },
  {
   "cell_type": "code",
   "execution_count": 15,
   "id": "11a16f23-f501-4887-bdd2-3e56967f8519",
   "metadata": {},
   "outputs": [],
   "source": [
    "class InstitutionDetails(BaseModel):\n",
    "    institution_name: str\n",
    "    founded_year: int\n",
    "    founded_by: str\n",
    "    no_of_employees: str\n",
    "    branches: List[str]\n",
    "    courses: List[str]"
   ]
  },
  {
   "cell_type": "code",
   "execution_count": 16,
   "id": "0a33ffe2-6391-437e-93b0-293547dd1fb2",
   "metadata": {},
   "outputs": [],
   "source": [
    "def fetch_wikipedia_summary(name: str) -> str:\n",
    "    return wikipedia.summary(name, sentences=4)"
   ]
  },
  {
   "cell_type": "code",
   "execution_count": 17,
   "id": "94c9eef2-bf2a-4eae-8e5a-43ab0bb63b85",
   "metadata": {},
   "outputs": [],
   "source": [
    "details_format = {\n",
    "    \"institution_name\": \"str\",\n",
    "    \"founded_year\" :\"int\",\n",
    "    \"founded_by\": \"str\",\n",
    "    \"no_of_employees\": \"str\",\n",
    "    \"branches\": \"List[str]\",\n",
    "    \"courses\": \"List[str]\",\n",
    "}"
   ]
  },
  {
   "cell_type": "code",
   "execution_count": 18,
   "id": "20bb741c-d55e-4acd-90cf-d7d75b105ebc",
   "metadata": {},
   "outputs": [],
   "source": [
    "def format_wiki_summary(summary):\n",
    "    response = co.generate(prompt=f\"\"\"\n",
    "    Summarize the following text: ||{summary}|| in this json format {details_format}\n",
    "    \"\"\")\n",
    "    text = response.generations[0].text.strip()\n",
    "\n",
    "    start = text.find(\"{\")\n",
    "    end = text.rfind(\"}\") + 1\n",
    "    json_str = text[start:end]\n",
    "\n",
    "    data = json.loads(json_str)\n",
    "    return InstitutionDetails(**data)"
   ]
  },
  {
   "cell_type": "code",
   "execution_count": 19,
   "id": "a32f6d7c-6972-4d5e-bed1-4148b2676b06",
   "metadata": {},
   "outputs": [],
   "source": [
    "def get_institution_details() -> InstitutionDetails:\n",
    "    name = input(\"Enter institution name: \")\n",
    "    summary = fetch_wikipedia_summary(name)\n",
    "    return format_wiki_summary(summary)"
   ]
  },
  {
   "cell_type": "code",
   "execution_count": 22,
   "id": "f696975b-80da-41d4-a623-0f14c17f2e53",
   "metadata": {},
   "outputs": [
    {
     "name": "stdin",
     "output_type": "stream",
     "text": [
      "Enter institution name:  RNS Institute of Technology\n"
     ]
    },
    {
     "name": "stdout",
     "output_type": "stream",
     "text": [
      "Institution Name:  Rama Nagappa Shetty Institute of Technology\n",
      "Founded in:  2001\n",
      "Founded by:  Dr.\n",
      "Employee count:  Over 1000\n",
      "Departments:  ['Civil', 'Electrical', 'Mechanical', 'Computer Science', 'Chemical', 'Electronics and Communication', 'Bio Technological']\n",
      "Courses Offered:  ['Bachelor of Engineering', 'Bachelor of Science']\n"
     ]
    }
   ],
   "source": [
    "institution = get_institution_details()\n",
    "print(\"Institution Name: \", institution.institution_name)\n",
    "print(\"Founded in: \", institution.founded_year)\n",
    "print(\"Founded by: \", institution.founded_by)\n",
    "print(\"Employee count: \", institution.no_of_employees)\n",
    "print(\"Departments: \", institution.branches)\n",
    "print(\"Courses Offered: \", institution.courses)"
   ]
  },
  {
   "cell_type": "code",
   "execution_count": null,
   "id": "d4819d23-7152-461f-b8b1-fc4e96d71834",
   "metadata": {},
   "outputs": [],
   "source": []
  }
 ],
 "metadata": {
  "kernelspec": {
   "display_name": "Python 3 (ipykernel)",
   "language": "python",
   "name": "python3"
  },
  "language_info": {
   "codemirror_mode": {
    "name": "ipython",
    "version": 3
   },
   "file_extension": ".py",
   "mimetype": "text/x-python",
   "name": "python",
   "nbconvert_exporter": "python",
   "pygments_lexer": "ipython3",
   "version": "3.12.3"
  }
 },
 "nbformat": 4,
 "nbformat_minor": 5
}
