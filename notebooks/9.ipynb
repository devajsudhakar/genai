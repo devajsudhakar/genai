{
 "cells": [
  {
   "cell_type": "code",
   "execution_count": 1,
   "id": "386cb0ea-5aee-4eb7-ae14-46246a53ec7c",
   "metadata": {},
   "outputs": [],
   "source": [
    "from typing import Optional, List\n",
    "from pydantic import BaseModel, Field, ValidationError\n",
    "import wikipedia\n",
    "import pprint\n",
    "import cohere\n",
    "import json"
   ]
  },
  {
   "cell_type": "code",
   "execution_count": 2,
   "id": "8bb19ce8-949d-4e2d-9741-a83d8bc15d47",
   "metadata": {},
   "outputs": [],
   "source": [
    "co = cohere.Client(\"3JE437qflNp5M7TbvoQXMmeDuRrRWgylGCq09x29\")"
   ]
  },
  {
   "cell_type": "code",
   "execution_count": 3,
   "id": "0a33ffe2-6391-437e-93b0-293547dd1fb2",
   "metadata": {},
   "outputs": [],
   "source": [
    "def fetch_wikipedia_summary(instituion_name):\n",
    "    instituion_page = wikipedia.summary(instituion_name, sentences = 4)\n",
    "    return instituion_page"
   ]
  },
  {
   "cell_type": "code",
   "execution_count": 4,
   "id": "94c9eef2-bf2a-4eae-8e5a-43ab0bb63b85",
   "metadata": {},
   "outputs": [],
   "source": [
    "details_format = {\n",
    "    \"institution_name\": \"str\",\n",
    "    \"founded_year\" :\"int\",\n",
    "   \"founded_by\": \"str\",\n",
    "    \"no_of_employees\": \"str\",\n",
    "    \"branches\": \"List[str]\",\n",
    "    \"courses\": \"List[str]\",\n",
    "}\n",
    "class InstitutionDetails(BaseModel):\n",
    "    institution_name: str\n",
    "    founded_year: int\n",
    "    founded_by: str\n",
    "    no_of_employees: str\n",
    "    branches: List[str]\n",
    "    courses: List[str]"
   ]
  },
  {
   "cell_type": "code",
   "execution_count": 5,
   "id": "20bb741c-d55e-4acd-90cf-d7d75b105ebc",
   "metadata": {},
   "outputs": [],
   "source": [
    "def format_wiki_summary(summary):\n",
    "    response = co.generate(prompt=f\"\"\"\n",
    "    Summarize the following text: ||{summary}|| in this json format {details_format} that I can easily parse using json.loads\n",
    "    \"\"\")\n",
    "    return response.generations[0].text.strip()"
   ]
  },
  {
   "cell_type": "code",
   "execution_count": 6,
   "id": "a32f6d7c-6972-4d5e-bed1-4148b2676b06",
   "metadata": {},
   "outputs": [],
   "source": [
    "def get_institution_as_object()->InstitutionDetails:\n",
    "    institution_name = input(\"Enter institution name to get summary: \")\n",
    "    summary = fetch_wikipedia_summary(institution_name)\n",
    "    formatted_summary = format_wiki_summary(summary)\n",
    "    json_summary = formatted_summary[formatted_summary.index('{'): formatted_summary.index('}')+1]\n",
    "    json_data = json.loads(json_summary)\n",
    "    institution_details = InstitutionDetails(**json_data)\n",
    "    return institution_details"
   ]
  },
  {
   "cell_type": "code",
   "execution_count": 7,
   "id": "f696975b-80da-41d4-a623-0f14c17f2e53",
   "metadata": {},
   "outputs": [],
   "source": [
    "def solution():\n",
    "    institution = get_institution_as_object()\n",
    "    print(\"===============================================================\")\n",
    "    print(\"Institution Name: \", institution.institution_name)\n",
    "    print(\"Founded in: \", institution.founded_year)\n",
    "    print(\"Founded by: \", institution.founded_by)\n",
    "    print(\"Employee count: \", institution.no_of_employees)\n",
    "    print(\"Departments: \", institution.branches)\n",
    "    print(\"Courses Offered: \", institution.courses)\n",
    "    print(\"===============================================================\")"
   ]
  },
  {
   "cell_type": "code",
   "execution_count": 8,
   "id": "cd632a18-b0f6-4de4-9046-653fe302efdb",
   "metadata": {},
   "outputs": [
    {
     "name": "stdin",
     "output_type": "stream",
     "text": [
      "Enter institution name to get summary:  Bangalore Institute of Technology\n"
     ]
    },
    {
     "name": "stdout",
     "output_type": "stream",
     "text": [
      "===============================================================\n",
      "Institution Name:  Bangalore Institute of Technology\n",
      "Founded in:  1979\n",
      "Founded by:  Rajya Vokkaligara Sangha, Bengaluru\n",
      "Employee count:  Unknown\n",
      "Departments:  ['Artificial Intelligence & Machine Learning', 'Computer Science', 'Electronics', 'Telecommunication', 'Instrumentation Technology', 'Electrical', 'Civil and Mechanical', 'Information Science and Engineering', 'Industrial Engineering and Management']\n",
      "Courses Offered:  ['Undergraduate', 'Postgraduate', 'MBA', 'MCA', 'Ph.D.']\n",
      "===============================================================\n"
     ]
    },
    {
     "name": "stdin",
     "output_type": "stream",
     "text": [
      "Enter institution name to get summary:  New Horizon College of Engineering\n"
     ]
    },
    {
     "name": "stdout",
     "output_type": "stream",
     "text": [
      "===============================================================\n",
      "Institution Name:  New Horizon College of Engineering\n",
      "Founded in:  2001\n",
      "Founded by:  New Horizon Educational Institution\n",
      "Employee count:   Undisclosed\n",
      "Departments:  ['Marathahalli, Bangalore']\n",
      "Courses Offered:  ['Engineering']\n",
      "===============================================================\n"
     ]
    },
    {
     "name": "stdin",
     "output_type": "stream",
     "text": [
      "Enter institution name to get summary:  Christ University\n"
     ]
    },
    {
     "name": "stdout",
     "output_type": "stream",
     "text": [
      "===============================================================\n",
      "Institution Name:  Christ University\n",
      "Founded in:  2008\n",
      "Founded by:  Carmelites of Mary Immaculate (CMI)\n",
      "Employee count:  Unknown\n",
      "Departments:  ['Bengaluru, Karnataka, India']\n",
      "Courses Offered:  ['Undergraduate, postgraduate and doctoral programmes in arts, commerce, science, and management.']\n",
      "===============================================================\n"
     ]
    }
   ],
   "source": [
    "solution()\n",
    "solution()\n",
    "solution()"
   ]
  },
  {
   "cell_type": "code",
   "execution_count": null,
   "id": "d4819d23-7152-461f-b8b1-fc4e96d71834",
   "metadata": {},
   "outputs": [],
   "source": []
  }
 ],
 "metadata": {
  "kernelspec": {
   "display_name": "Python 3 (ipykernel)",
   "language": "python",
   "name": "python3"
  },
  "language_info": {
   "codemirror_mode": {
    "name": "ipython",
    "version": 3
   },
   "file_extension": ".py",
   "mimetype": "text/x-python",
   "name": "python",
   "nbconvert_exporter": "python",
   "pygments_lexer": "ipython3",
   "version": "3.10.17"
  }
 },
 "nbformat": 4,
 "nbformat_minor": 5
}
