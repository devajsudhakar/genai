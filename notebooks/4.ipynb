{
 "cells": [
  {
   "cell_type": "code",
   "execution_count": 1,
   "id": "962d6320-a3b5-41cc-94b1-c37f0bba1e7d",
   "metadata": {
    "scrolled": true
   },
   "outputs": [
    {
     "name": "stdout",
     "output_type": "stream",
     "text": [
      "Requirement already satisfied: gensim in c:\\users\\admin\\miniconda3\\lib\\site-packages (4.3.3)\n",
      "Collecting cohere\n",
      "  Downloading cohere-5.15.0-py3-none-any.whl.metadata (3.4 kB)\n",
      "Requirement already satisfied: numpy<2.0,>=1.18.5 in c:\\users\\admin\\miniconda3\\lib\\site-packages (from gensim) (1.26.4)\n",
      "Requirement already satisfied: scipy<1.14.0,>=1.7.0 in c:\\users\\admin\\miniconda3\\lib\\site-packages (from gensim) (1.13.1)\n",
      "Requirement already satisfied: smart-open>=1.8.1 in c:\\users\\admin\\miniconda3\\lib\\site-packages (from gensim) (7.1.0)\n",
      "Collecting fastavro<2.0.0,>=1.9.4 (from cohere)\n",
      "  Downloading fastavro-1.11.1-cp312-cp312-win_amd64.whl.metadata (5.9 kB)\n",
      "Requirement already satisfied: httpx>=0.21.2 in c:\\users\\admin\\miniconda3\\lib\\site-packages (from cohere) (0.27.0)\n",
      "Collecting httpx-sse==0.4.0 (from cohere)\n",
      "  Using cached httpx_sse-0.4.0-py3-none-any.whl.metadata (9.0 kB)\n",
      "Requirement already satisfied: pydantic>=1.9.2 in c:\\users\\admin\\miniconda3\\lib\\site-packages (from cohere) (2.11.3)\n",
      "Requirement already satisfied: pydantic-core<3.0.0,>=2.18.2 in c:\\users\\admin\\miniconda3\\lib\\site-packages (from cohere) (2.33.1)\n",
      "Requirement already satisfied: requests<3.0.0,>=2.0.0 in c:\\users\\admin\\miniconda3\\lib\\site-packages (from cohere) (2.32.3)\n",
      "Collecting tokenizers<1,>=0.15 (from cohere)\n",
      "  Downloading tokenizers-0.21.1-cp39-abi3-win_amd64.whl.metadata (6.9 kB)\n",
      "Collecting types-requests<3.0.0,>=2.0.0 (from cohere)\n",
      "  Downloading types_requests-2.32.0.20250515-py3-none-any.whl.metadata (2.1 kB)\n",
      "Requirement already satisfied: typing_extensions>=4.0.0 in c:\\users\\admin\\miniconda3\\lib\\site-packages (from cohere) (4.12.2)\n",
      "Requirement already satisfied: anyio in c:\\users\\admin\\miniconda3\\lib\\site-packages (from httpx>=0.21.2->cohere) (4.7.0)\n",
      "Requirement already satisfied: certifi in c:\\users\\admin\\miniconda3\\lib\\site-packages (from httpx>=0.21.2->cohere) (2025.4.26)\n",
      "Requirement already satisfied: httpcore==1.* in c:\\users\\admin\\miniconda3\\lib\\site-packages (from httpx>=0.21.2->cohere) (1.0.2)\n",
      "Requirement already satisfied: idna in c:\\users\\admin\\miniconda3\\lib\\site-packages (from httpx>=0.21.2->cohere) (3.7)\n",
      "Requirement already satisfied: sniffio in c:\\users\\admin\\miniconda3\\lib\\site-packages (from httpx>=0.21.2->cohere) (1.3.0)\n",
      "Requirement already satisfied: h11<0.15,>=0.13 in c:\\users\\admin\\miniconda3\\lib\\site-packages (from httpcore==1.*->httpx>=0.21.2->cohere) (0.14.0)\n",
      "Requirement already satisfied: annotated-types>=0.6.0 in c:\\users\\admin\\miniconda3\\lib\\site-packages (from pydantic>=1.9.2->cohere) (0.7.0)\n",
      "Requirement already satisfied: typing-inspection>=0.4.0 in c:\\users\\admin\\miniconda3\\lib\\site-packages (from pydantic>=1.9.2->cohere) (0.4.0)\n",
      "Requirement already satisfied: charset-normalizer<4,>=2 in c:\\users\\admin\\miniconda3\\lib\\site-packages (from requests<3.0.0,>=2.0.0->cohere) (3.3.2)\n",
      "Requirement already satisfied: urllib3<3,>=1.21.1 in c:\\users\\admin\\miniconda3\\lib\\site-packages (from requests<3.0.0,>=2.0.0->cohere) (2.2.2)\n",
      "Requirement already satisfied: wrapt in c:\\users\\admin\\miniconda3\\lib\\site-packages (from smart-open>=1.8.1->gensim) (1.17.2)\n",
      "Collecting huggingface-hub<1.0,>=0.16.4 (from tokenizers<1,>=0.15->cohere)\n",
      "  Downloading huggingface_hub-0.32.2-py3-none-any.whl.metadata (14 kB)\n",
      "Collecting filelock (from huggingface-hub<1.0,>=0.16.4->tokenizers<1,>=0.15->cohere)\n",
      "  Downloading filelock-3.18.0-py3-none-any.whl.metadata (2.9 kB)\n",
      "Collecting fsspec>=2023.5.0 (from huggingface-hub<1.0,>=0.16.4->tokenizers<1,>=0.15->cohere)\n",
      "  Downloading fsspec-2025.5.1-py3-none-any.whl.metadata (11 kB)\n",
      "Requirement already satisfied: packaging>=20.9 in c:\\users\\admin\\miniconda3\\lib\\site-packages (from huggingface-hub<1.0,>=0.16.4->tokenizers<1,>=0.15->cohere) (24.1)\n",
      "Requirement already satisfied: pyyaml>=5.1 in c:\\users\\admin\\miniconda3\\lib\\site-packages (from huggingface-hub<1.0,>=0.16.4->tokenizers<1,>=0.15->cohere) (6.0.2)\n",
      "Requirement already satisfied: tqdm>=4.42.1 in c:\\users\\admin\\miniconda3\\lib\\site-packages (from huggingface-hub<1.0,>=0.16.4->tokenizers<1,>=0.15->cohere) (4.66.4)\n",
      "Requirement already satisfied: colorama in c:\\users\\admin\\miniconda3\\lib\\site-packages (from tqdm>=4.42.1->huggingface-hub<1.0,>=0.16.4->tokenizers<1,>=0.15->cohere) (0.4.6)\n",
      "Downloading cohere-5.15.0-py3-none-any.whl (259 kB)\n",
      "Using cached httpx_sse-0.4.0-py3-none-any.whl (7.8 kB)\n",
      "Downloading fastavro-1.11.1-cp312-cp312-win_amd64.whl (442 kB)\n",
      "Downloading tokenizers-0.21.1-cp39-abi3-win_amd64.whl (2.4 MB)\n",
      "   ---------------------------------------- 0.0/2.4 MB ? eta -:--:--\n",
      "   ---------------------------------- ----- 2.1/2.4 MB 11.7 MB/s eta 0:00:01\n",
      "   ---------------------------------------- 2.4/2.4 MB 11.6 MB/s eta 0:00:00\n",
      "Downloading types_requests-2.32.0.20250515-py3-none-any.whl (20 kB)\n",
      "Downloading huggingface_hub-0.32.2-py3-none-any.whl (509 kB)\n",
      "Downloading fsspec-2025.5.1-py3-none-any.whl (199 kB)\n",
      "Downloading filelock-3.18.0-py3-none-any.whl (16 kB)\n",
      "Installing collected packages: types-requests, httpx-sse, fsspec, filelock, fastavro, huggingface-hub, tokenizers, cohere\n",
      "Successfully installed cohere-5.15.0 fastavro-1.11.1 filelock-3.18.0 fsspec-2025.5.1 httpx-sse-0.4.0 huggingface-hub-0.32.2 tokenizers-0.21.1 types-requests-2.32.0.20250515\n"
     ]
    }
   ],
   "source": [
    "!pip install gensim cohere"
   ]
  },
  {
   "cell_type": "code",
   "execution_count": 1,
   "id": "6bf7e27a-4860-4643-af07-9343d66ee273",
   "metadata": {},
   "outputs": [],
   "source": [
    "import os\n",
    "import gensim.downloader as api\n",
    "import cohere\n",
    "\n",
    "co = cohere.Client(\"3JE437qflNp5M7TbvoQXMmeDuRrRWgylGCq09x29\")\n",
    "model = api.load(\"glove-wiki-gigaword-50\")"
   ]
  },
  {
   "cell_type": "code",
   "execution_count": 2,
   "id": "b7af1bcf-ac03-4922-92bf-c3614b1921ca",
   "metadata": {},
   "outputs": [
    {
     "name": "stdout",
     "output_type": "stream",
     "text": [
      "Top 5 similar words are:\n",
      "\n",
      "technologies:0.89\n",
      "computer:0.85\n",
      "systems:0.83\n",
      "software:0.81\n",
      "computing:0.80\n"
     ]
    }
   ],
   "source": [
    "input_word = \"technology\"\n",
    "similar_words = model.most_similar(input_word, topn=5)\n",
    "print(\"Top 5 similar words are:\\n\")\n",
    "for word, similarity in similar_words:\n",
    "    print(f\"{word}:{similarity:.2f}\")"
   ]
  },
  {
   "cell_type": "code",
   "execution_count": 3,
   "id": "e53608da-0995-466e-b2cf-e63b59b595d2",
   "metadata": {},
   "outputs": [],
   "source": [
    "related_terms = [input_word] + [w[0] for w in similar_words]\n",
    "enriched_prompt = (\n",
    "    \"Explain the impact of \" + \", \".join(related_terms[:-1]) +\n",
    "    f\", and {related_terms[-1]} on society.\"\n",
    ")"
   ]
  },
  {
   "cell_type": "code",
   "execution_count": 4,
   "id": "9b787348-bf8d-45e8-8806-7e7efb1323d0",
   "metadata": {},
   "outputs": [],
   "source": [
    "def generate_response(prompt):\n",
    "    response = co.generate(\n",
    "        model=\"command\",\n",
    "        prompt=prompt,\n",
    "        max_tokens=150\n",
    "    )\n",
    "    return response.generations[0].text.strip()"
   ]
  },
  {
   "cell_type": "code",
   "execution_count": 5,
   "id": "66f409c6-129a-49ce-8cc2-c5de35787d91",
   "metadata": {},
   "outputs": [],
   "source": [
    "original_prompt = \"Explain the impact of technology on society.\"\n",
    "original_response = generate_response(original_prompt)\n",
    "enriched_response = generate_response(enriched_prompt)"
   ]
  },
  {
   "cell_type": "code",
   "execution_count": 6,
   "id": "e1e54158-0241-44b0-864d-782031fed546",
   "metadata": {},
   "outputs": [
    {
     "name": "stdout",
     "output_type": "stream",
     "text": [
      "Original Prompt Response:\n",
      "Technology has had a profound impact on society, influencing various aspects of our lives and reshaping the way we communicate, work, and interact with the world around us. Some key impacts of technology on society include:\n",
      "\n",
      "1. Communication: Technology has revolutionized communication, making it faster, easier, and more accessible than ever before. The internet, mobile phones, and social media platforms have enabled people to connect and communicate with others worldwide, regardless of location. This has led to increased global connectivity and the ability to share information and ideas instantly.\n",
      "\n",
      "2. Automation and Efficiency: Technology has enabled the automation of various tasks and processes, increasing productivity and efficiency in many industries. Machines and computer systems can perform tasks with speed and accuracy that humans cannot match\n"
     ]
    }
   ],
   "source": [
    "print(\"Original Prompt Response:\")\n",
    "print(original_response)"
   ]
  },
  {
   "cell_type": "code",
   "execution_count": 7,
   "id": "d0982461-2545-4b4a-9e3a-be8440eef017",
   "metadata": {},
   "outputs": [
    {
     "name": "stdout",
     "output_type": "stream",
     "text": [
      "Enriched Prompt Response:\n",
      "The impact of technology, computers, systems, software, and computing on society is profound and multifaceted. Technology has become an integral part of modern life, impacting various aspects of how we live, work, communicate, and interact. Here are some key areas where technology has had a significant impact:\n",
      "\n",
      "1. Communication and Connectivity: Technology has revolutionized communication, making it faster, easier, and more accessible than ever before. The Internet, mobile phones, and social media platforms have enabled global connectivity, allowing people to stay connected and access information from anywhere. This has transformed the way we interact with others, conduct business, and acquire knowledge.\n",
      "\n",
      "2. Automation and Efficiency: Technology has automated various tasks and processes, increasing productivity and efficiency in industries such\n"
     ]
    }
   ],
   "source": [
    "print(\"Enriched Prompt Response:\")\n",
    "print(enriched_response)"
   ]
  },
  {
   "cell_type": "code",
   "execution_count": null,
   "id": "47d044ea-dcd7-476a-860d-a48dce4e99cd",
   "metadata": {},
   "outputs": [],
   "source": []
  }
 ],
 "metadata": {
  "kernelspec": {
   "display_name": "Python 3 (ipykernel)",
   "language": "python",
   "name": "python3"
  },
  "language_info": {
   "codemirror_mode": {
    "name": "ipython",
    "version": 3
   },
   "file_extension": ".py",
   "mimetype": "text/x-python",
   "name": "python",
   "nbconvert_exporter": "python",
   "pygments_lexer": "ipython3",
   "version": "3.12.3"
  }
 },
 "nbformat": 4,
 "nbformat_minor": 5
}
