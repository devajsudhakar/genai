{
 "cells": [
  {
   "cell_type": "code",
   "execution_count": 1,
   "id": "9681f0ad-1df9-408c-b4e2-5f5af61a5614",
   "metadata": {},
   "outputs": [
    {
     "name": "stdout",
     "output_type": "stream",
     "text": [
      "Requirement already satisfied: gensim in c:\\users\\admin\\miniconda3\\lib\\site-packages (4.3.3)\n",
      "Collecting nltk\n",
      "  Downloading nltk-3.9.1-py3-none-any.whl.metadata (2.9 kB)\n",
      "Requirement already satisfied: numpy<2.0,>=1.18.5 in c:\\users\\admin\\miniconda3\\lib\\site-packages (from gensim) (1.26.4)\n",
      "Requirement already satisfied: scipy<1.14.0,>=1.7.0 in c:\\users\\admin\\miniconda3\\lib\\site-packages (from gensim) (1.13.1)\n",
      "Requirement already satisfied: smart-open>=1.8.1 in c:\\users\\admin\\miniconda3\\lib\\site-packages (from gensim) (7.1.0)\n",
      "Requirement already satisfied: click in c:\\users\\admin\\miniconda3\\lib\\site-packages (from nltk) (8.1.8)\n",
      "Requirement already satisfied: joblib in c:\\users\\admin\\miniconda3\\lib\\site-packages (from nltk) (1.4.2)\n",
      "Collecting regex>=2021.8.3 (from nltk)\n",
      "  Downloading regex-2024.11.6-cp312-cp312-win_amd64.whl.metadata (41 kB)\n",
      "Requirement already satisfied: tqdm in c:\\users\\admin\\miniconda3\\lib\\site-packages (from nltk) (4.66.4)\n",
      "Requirement already satisfied: wrapt in c:\\users\\admin\\miniconda3\\lib\\site-packages (from smart-open>=1.8.1->gensim) (1.17.2)\n",
      "Requirement already satisfied: colorama in c:\\users\\admin\\miniconda3\\lib\\site-packages (from click->nltk) (0.4.6)\n",
      "Downloading nltk-3.9.1-py3-none-any.whl (1.5 MB)\n",
      "   ---------------------------------------- 0.0/1.5 MB ? eta -:--:--\n",
      "   ---------------------------------------- 0.0/1.5 MB ? eta -:--:--\n",
      "   ------ --------------------------------- 0.3/1.5 MB ? eta -:--:--\n",
      "   ------ --------------------------------- 0.3/1.5 MB ? eta -:--:--\n",
      "   ------------- -------------------------- 0.5/1.5 MB 621.2 kB/s eta 0:00:02\n",
      "   ------------- -------------------------- 0.5/1.5 MB 621.2 kB/s eta 0:00:02\n",
      "   ------------- -------------------------- 0.5/1.5 MB 621.2 kB/s eta 0:00:02\n",
      "   ------------- -------------------------- 0.5/1.5 MB 621.2 kB/s eta 0:00:02\n",
      "   ------------- -------------------------- 0.5/1.5 MB 621.2 kB/s eta 0:00:02\n",
      "   ------------- -------------------------- 0.5/1.5 MB 621.2 kB/s eta 0:00:02\n",
      "   ------------- -------------------------- 0.5/1.5 MB 621.2 kB/s eta 0:00:02\n",
      "   -------------------- ------------------- 0.8/1.5 MB 262.1 kB/s eta 0:00:03\n",
      "   -------------------- ------------------- 0.8/1.5 MB 262.1 kB/s eta 0:00:03\n",
      "   -------------------- ------------------- 0.8/1.5 MB 262.1 kB/s eta 0:00:03\n",
      "   -------------------- ------------------- 0.8/1.5 MB 262.1 kB/s eta 0:00:03\n",
      "   -------------------- ------------------- 0.8/1.5 MB 262.1 kB/s eta 0:00:03\n",
      "   -------------------- ------------------- 0.8/1.5 MB 262.1 kB/s eta 0:00:03\n",
      "   -------------------- ------------------- 0.8/1.5 MB 262.1 kB/s eta 0:00:03\n",
      "   -------------------- ------------------- 0.8/1.5 MB 262.1 kB/s eta 0:00:03\n",
      "   -------------------- ------------------- 0.8/1.5 MB 262.1 kB/s eta 0:00:03\n",
      "   -------------------- ------------------- 0.8/1.5 MB 262.1 kB/s eta 0:00:03\n",
      "   -------------------- ------------------- 0.8/1.5 MB 262.1 kB/s eta 0:00:03\n",
      "   -------------------- ------------------- 0.8/1.5 MB 262.1 kB/s eta 0:00:03\n",
      "   -------------------- ------------------- 0.8/1.5 MB 262.1 kB/s eta 0:00:03\n",
      "   --------------------------- ------------ 1.0/1.5 MB 174.8 kB/s eta 0:00:03\n",
      "   --------------------------- ------------ 1.0/1.5 MB 174.8 kB/s eta 0:00:03\n",
      "   --------------------------- ------------ 1.0/1.5 MB 174.8 kB/s eta 0:00:03\n",
      "   --------------------------- ------------ 1.0/1.5 MB 174.8 kB/s eta 0:00:03\n",
      "   --------------------------- ------------ 1.0/1.5 MB 174.8 kB/s eta 0:00:03\n",
      "   --------------------------- ------------ 1.0/1.5 MB 174.8 kB/s eta 0:00:03\n",
      "   --------------------------- ------------ 1.0/1.5 MB 174.8 kB/s eta 0:00:03\n",
      "   --------------------------- ------------ 1.0/1.5 MB 174.8 kB/s eta 0:00:03\n",
      "   --------------------------- ------------ 1.0/1.5 MB 174.8 kB/s eta 0:00:03\n",
      "   ---------------------------------- ----- 1.3/1.5 MB 164.9 kB/s eta 0:00:02\n",
      "   ---------------------------------- ----- 1.3/1.5 MB 164.9 kB/s eta 0:00:02\n",
      "   ---------------------------------- ----- 1.3/1.5 MB 164.9 kB/s eta 0:00:02\n",
      "   ---------------------------------------- 1.5/1.5 MB 178.0 kB/s eta 0:00:00\n",
      "Downloading regex-2024.11.6-cp312-cp312-win_amd64.whl (273 kB)\n",
      "Installing collected packages: regex, nltk\n",
      "Successfully installed nltk-3.9.1 regex-2024.11.6\n"
     ]
    }
   ],
   "source": [
    "!pip install gensim nltk"
   ]
  },
  {
   "cell_type": "code",
   "execution_count": 3,
   "id": "511feed4-9c18-4cdb-8901-43786a46f6d2",
   "metadata": {},
   "outputs": [
    {
     "name": "stdout",
     "output_type": "stream",
     "text": [
      "Top 5 words similar to 'doctor':\n",
      "heart: 0.2376\n",
      "surgeon: 0.1979\n",
      "injections: 0.1564\n",
      "health: 0.1564\n",
      "patients: 0.1501\n"
     ]
    },
    {
     "name": "stderr",
     "output_type": "stream",
     "text": [
      "[nltk_data] Downloading package punkt to\n",
      "[nltk_data]     C:\\Users\\Admin\\AppData\\Roaming\\nltk_data...\n",
      "[nltk_data]   Package punkt is already up-to-date!\n"
     ]
    }
   ],
   "source": [
    "import gensim\n",
    "from gensim.models import Word2Vec\n",
    "import nltk\n",
    "from nltk.tokenize import word_tokenize\n",
    "\n",
    "nltk.download('punkt')\n",
    "\n",
    "corpus = [\n",
    "    \"A patient with diabetes requires regular insulin injections.\",\n",
    "    \"Medical professionals recommend exercise for heart health.\",\n",
    "    \"Doctors use MRI scans to diagnose brain disorders.\",\n",
    "    \"Antibiotics help fight bacterial infections but not viral infections.\",\n",
    "    \"The surgeon performed a complex cardiac surgery successfully.\",\n",
    "    \"Doctors and nurses work together to treat patients.\",\n",
    "    \"A doctor specializes in diagnosing and treating diseases.\"\n",
    "]\n",
    "\n",
    "tokenized_corpus = [word_tokenize(sentence.lower()) for sentence in corpus]\n",
    "\n",
    "model = Word2Vec(\n",
    "    sentences=tokenized_corpus,\n",
    "    vector_size=100,\n",
    "    window=3,\n",
    "    min_count=1,\n",
    "    workers=4,\n",
    "    sg=1  \n",
    ")\n",
    "\n",
    "#model.save(\"medical_word2vec.model\")\n",
    "\n",
    "similar_words = model.wv.most_similar(\"doctor\", topn=5)\n",
    "\n",
    "print(\"Top 5 words similar to 'doctor':\")\n",
    "for word, score in similar_words:\n",
    "    print(f\"{word}: {score:.4f}\")"
   ]
  },
  {
   "cell_type": "code",
   "execution_count": null,
   "id": "21bb5ab7-8f97-466e-bf36-409fc60418b1",
   "metadata": {},
   "outputs": [],
   "source": []
  }
 ],
 "metadata": {
  "kernelspec": {
   "display_name": "Python 3 (ipykernel)",
   "language": "python",
   "name": "python3"
  },
  "language_info": {
   "codemirror_mode": {
    "name": "ipython",
    "version": 3
   },
   "file_extension": ".py",
   "mimetype": "text/x-python",
   "name": "python",
   "nbconvert_exporter": "python",
   "pygments_lexer": "ipython3",
   "version": "3.12.3"
  }
 },
 "nbformat": 4,
 "nbformat_minor": 5
}
