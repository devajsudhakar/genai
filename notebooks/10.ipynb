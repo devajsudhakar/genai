{
 "cells": [
  {
   "cell_type": "code",
   "execution_count": 2,
   "id": "89dea751-b91b-44b6-b2ec-f27828bc8a3c",
   "metadata": {},
   "outputs": [
    {
     "name": "stdout",
     "output_type": "stream",
     "text": [
      "Requirement already satisfied: cohere in c:\\users\\admin\\miniconda3\\lib\\site-packages (5.15.0)\n",
      "Requirement already satisfied: pypdf in c:\\users\\admin\\miniconda3\\lib\\site-packages (5.5.0)\n",
      "Requirement already satisfied: ipywidgets in c:\\users\\admin\\miniconda3\\lib\\site-packages (8.1.7)\n",
      "Requirement already satisfied: fastavro<2.0.0,>=1.9.4 in c:\\users\\admin\\miniconda3\\lib\\site-packages (from cohere) (1.11.1)\n",
      "Requirement already satisfied: httpx>=0.21.2 in c:\\users\\admin\\miniconda3\\lib\\site-packages (from cohere) (0.27.0)\n",
      "Requirement already satisfied: httpx-sse==0.4.0 in c:\\users\\admin\\miniconda3\\lib\\site-packages (from cohere) (0.4.0)\n",
      "Requirement already satisfied: pydantic>=1.9.2 in c:\\users\\admin\\miniconda3\\lib\\site-packages (from cohere) (2.11.3)\n",
      "Requirement already satisfied: pydantic-core<3.0.0,>=2.18.2 in c:\\users\\admin\\miniconda3\\lib\\site-packages (from cohere) (2.33.1)\n",
      "Requirement already satisfied: requests<3.0.0,>=2.0.0 in c:\\users\\admin\\miniconda3\\lib\\site-packages (from cohere) (2.32.3)\n",
      "Requirement already satisfied: tokenizers<1,>=0.15 in c:\\users\\admin\\miniconda3\\lib\\site-packages (from cohere) (0.21.1)\n",
      "Requirement already satisfied: types-requests<3.0.0,>=2.0.0 in c:\\users\\admin\\miniconda3\\lib\\site-packages (from cohere) (2.32.0.20250515)\n",
      "Requirement already satisfied: typing_extensions>=4.0.0 in c:\\users\\admin\\miniconda3\\lib\\site-packages (from cohere) (4.12.2)\n",
      "Requirement already satisfied: comm>=0.1.3 in c:\\users\\admin\\miniconda3\\lib\\site-packages (from ipywidgets) (0.2.1)\n",
      "Requirement already satisfied: ipython>=6.1.0 in c:\\users\\admin\\miniconda3\\lib\\site-packages (from ipywidgets) (9.0.2)\n",
      "Requirement already satisfied: traitlets>=4.3.1 in c:\\users\\admin\\miniconda3\\lib\\site-packages (from ipywidgets) (5.14.3)\n",
      "Requirement already satisfied: widgetsnbextension~=4.0.14 in c:\\users\\admin\\miniconda3\\lib\\site-packages (from ipywidgets) (4.0.14)\n",
      "Requirement already satisfied: jupyterlab_widgets~=3.0.15 in c:\\users\\admin\\miniconda3\\lib\\site-packages (from ipywidgets) (3.0.15)\n",
      "Requirement already satisfied: anyio in c:\\users\\admin\\miniconda3\\lib\\site-packages (from httpx>=0.21.2->cohere) (4.7.0)\n",
      "Requirement already satisfied: certifi in c:\\users\\admin\\miniconda3\\lib\\site-packages (from httpx>=0.21.2->cohere) (2025.4.26)\n",
      "Requirement already satisfied: httpcore==1.* in c:\\users\\admin\\miniconda3\\lib\\site-packages (from httpx>=0.21.2->cohere) (1.0.2)\n",
      "Requirement already satisfied: idna in c:\\users\\admin\\miniconda3\\lib\\site-packages (from httpx>=0.21.2->cohere) (3.7)\n",
      "Requirement already satisfied: sniffio in c:\\users\\admin\\miniconda3\\lib\\site-packages (from httpx>=0.21.2->cohere) (1.3.0)\n",
      "Requirement already satisfied: h11<0.15,>=0.13 in c:\\users\\admin\\miniconda3\\lib\\site-packages (from httpcore==1.*->httpx>=0.21.2->cohere) (0.14.0)\n",
      "Requirement already satisfied: colorama in c:\\users\\admin\\miniconda3\\lib\\site-packages (from ipython>=6.1.0->ipywidgets) (0.4.6)\n",
      "Requirement already satisfied: decorator in c:\\users\\admin\\miniconda3\\lib\\site-packages (from ipython>=6.1.0->ipywidgets) (5.1.1)\n",
      "Requirement already satisfied: ipython-pygments-lexers in c:\\users\\admin\\miniconda3\\lib\\site-packages (from ipython>=6.1.0->ipywidgets) (1.1.1)\n",
      "Requirement already satisfied: jedi>=0.16 in c:\\users\\admin\\miniconda3\\lib\\site-packages (from ipython>=6.1.0->ipywidgets) (0.19.2)\n",
      "Requirement already satisfied: matplotlib-inline in c:\\users\\admin\\miniconda3\\lib\\site-packages (from ipython>=6.1.0->ipywidgets) (0.1.6)\n",
      "Requirement already satisfied: prompt_toolkit<3.1.0,>=3.0.41 in c:\\users\\admin\\miniconda3\\lib\\site-packages (from ipython>=6.1.0->ipywidgets) (3.0.43)\n",
      "Requirement already satisfied: pygments>=2.4.0 in c:\\users\\admin\\miniconda3\\lib\\site-packages (from ipython>=6.1.0->ipywidgets) (2.19.1)\n",
      "Requirement already satisfied: stack_data in c:\\users\\admin\\miniconda3\\lib\\site-packages (from ipython>=6.1.0->ipywidgets) (0.2.0)\n",
      "Requirement already satisfied: annotated-types>=0.6.0 in c:\\users\\admin\\miniconda3\\lib\\site-packages (from pydantic>=1.9.2->cohere) (0.7.0)\n",
      "Requirement already satisfied: typing-inspection>=0.4.0 in c:\\users\\admin\\miniconda3\\lib\\site-packages (from pydantic>=1.9.2->cohere) (0.4.0)\n",
      "Requirement already satisfied: charset-normalizer<4,>=2 in c:\\users\\admin\\miniconda3\\lib\\site-packages (from requests<3.0.0,>=2.0.0->cohere) (3.3.2)\n",
      "Requirement already satisfied: urllib3<3,>=1.21.1 in c:\\users\\admin\\miniconda3\\lib\\site-packages (from requests<3.0.0,>=2.0.0->cohere) (2.2.2)\n",
      "Requirement already satisfied: huggingface-hub<1.0,>=0.16.4 in c:\\users\\admin\\miniconda3\\lib\\site-packages (from tokenizers<1,>=0.15->cohere) (0.32.2)\n",
      "Requirement already satisfied: filelock in c:\\users\\admin\\miniconda3\\lib\\site-packages (from huggingface-hub<1.0,>=0.16.4->tokenizers<1,>=0.15->cohere) (3.18.0)\n",
      "Requirement already satisfied: fsspec>=2023.5.0 in c:\\users\\admin\\miniconda3\\lib\\site-packages (from huggingface-hub<1.0,>=0.16.4->tokenizers<1,>=0.15->cohere) (2025.5.1)\n",
      "Requirement already satisfied: packaging>=20.9 in c:\\users\\admin\\miniconda3\\lib\\site-packages (from huggingface-hub<1.0,>=0.16.4->tokenizers<1,>=0.15->cohere) (24.1)\n",
      "Requirement already satisfied: pyyaml>=5.1 in c:\\users\\admin\\miniconda3\\lib\\site-packages (from huggingface-hub<1.0,>=0.16.4->tokenizers<1,>=0.15->cohere) (6.0.2)\n",
      "Requirement already satisfied: tqdm>=4.42.1 in c:\\users\\admin\\miniconda3\\lib\\site-packages (from huggingface-hub<1.0,>=0.16.4->tokenizers<1,>=0.15->cohere) (4.66.4)\n",
      "Requirement already satisfied: parso<0.9.0,>=0.8.4 in c:\\users\\admin\\miniconda3\\lib\\site-packages (from jedi>=0.16->ipython>=6.1.0->ipywidgets) (0.8.4)\n",
      "Requirement already satisfied: wcwidth in c:\\users\\admin\\miniconda3\\lib\\site-packages (from prompt_toolkit<3.1.0,>=3.0.41->ipython>=6.1.0->ipywidgets) (0.2.13)\n",
      "Requirement already satisfied: executing in c:\\users\\admin\\miniconda3\\lib\\site-packages (from stack_data->ipython>=6.1.0->ipywidgets) (0.8.3)\n",
      "Requirement already satisfied: asttokens in c:\\users\\admin\\miniconda3\\lib\\site-packages (from stack_data->ipython>=6.1.0->ipywidgets) (3.0.0)\n",
      "Requirement already satisfied: pure-eval in c:\\users\\admin\\miniconda3\\lib\\site-packages (from stack_data->ipython>=6.1.0->ipywidgets) (0.2.2)\n"
     ]
    }
   ],
   "source": [
    "!pip install cohere pypdf ipywidgets"
   ]
  },
  {
   "cell_type": "code",
   "execution_count": 11,
   "id": "8d6ff198-4e30-48eb-92c8-18f701794091",
   "metadata": {},
   "outputs": [
    {
     "name": "stdin",
     "output_type": "stream",
     "text": [
      "Ask your IPC question:  tell me about IPC\n"
     ]
    },
    {
     "name": "stdout",
     "output_type": "stream",
     "text": [
      "\n",
      "The Indian Penal Code (IPC) is a comprehensive code that covers a wide range of criminal offenses in India. It was enacted in 1860 and has since been amended several times. The IPC is organized into various chapters, each dealing with specific types of offenses. Here's an overview of the structure of the IPC and some key sections:\n",
      "\n",
      "1. Chapter I: Introduction\n",
      "   - This chapter includes the preamble and introductory provisions such as the title, extent of operation, and applicability of the Code.\n",
      "\n",
      "2. Chapter II: General Explanations\n",
      "   - This chapter defines key terms used in the IPC and provides interpretations for various expressions used throughout the Code. It covers definitions related to gender, public servants, moveable property, dishonesty, fraud, and more.\n",
      "\n",
      "3. Chapter III: Of Punishments\n",
      "   - Chapter III outlines the different types of punishments that can be imposed for offenses under the IPC. It includes imprisonment, fines, solitary confinement, and the commutation of sentences.\n",
      "\n",
      "4. Chapter IV: General Exceptions\n",
      "   - This chapter outlines circumstances under which certain acts may not be considered offenses. It includes exceptions for acts done by persons bound by law, acts done in good faith, acts of children below a certain age, acts of persons of unsound mind, and more.\n",
      "\n",
      "5. Chapter V: Of Abetment\n",
      "   - This chapter deals with the abetment of offenses, which involves intentionally aiding or encouraging the commission of a crime. It covers the\n"
     ]
    }
   ],
   "source": [
    "import cohere\n",
    "from pypdf import PdfReader\n",
    "import getpass\n",
    "\n",
    "COHERE_API_KEY = \"3JE437qflNp5M7TbvoQXMmeDuRrRWgylGCq09x29\"\n",
    "co = cohere.Client(COHERE_API_KEY)\n",
    "\n",
    "reader = PdfReader(\"./IPC_186045.pdf\")\n",
    "ipc_text = \"\\n\".join([page.extract_text() for page in reader.pages if page.extract_text()])\n",
    "\n",
    "def ask_ipc(question):\n",
    "    prompt = f\"\"\"\n",
    "You are a legal assistant specialized in the Indian Penal Code (IPC).\n",
    "Use the following content to answer the user's question:\n",
    "\n",
    "{ipc_text[:10000]}\n",
    "\n",
    "User Question: {question}\n",
    "\n",
    "Respond with a relevant IPC section (if any) and a clear explanation.\n",
    "\"\"\"\n",
    "    response = co.generate(prompt=prompt, model=\"command-r-plus\", max_tokens=300)\n",
    "    print(\"\\n\" + response.generations[0].text.strip())\n",
    "\n",
    "# Ask in console\n",
    "user_input = input(\"Ask your IPC question: \")\n",
    "ask_ipc(user_input)"
   ]
  },
  {
   "cell_type": "code",
   "execution_count": null,
   "id": "fad91be7-68e0-4b16-8de4-a7319375d6ed",
   "metadata": {},
   "outputs": [],
   "source": []
  }
 ],
 "metadata": {
  "kernelspec": {
   "display_name": "Python 3 (ipykernel)",
   "language": "python",
   "name": "python3"
  },
  "language_info": {
   "codemirror_mode": {
    "name": "ipython",
    "version": 3
   },
   "file_extension": ".py",
   "mimetype": "text/x-python",
   "name": "python",
   "nbconvert_exporter": "python",
   "pygments_lexer": "ipython3",
   "version": "3.12.3"
  }
 },
 "nbformat": 4,
 "nbformat_minor": 5
}
