{
 "cells": [
  {
   "cell_type": "code",
   "execution_count": 1,
   "metadata": {},
   "outputs": [
    {
     "name": "stdout",
     "output_type": "stream",
     "text": [
      "In the spirit of adventure, one might embark on an unforgettable adventuresto distant lands. Every fantasy brings new challenges and opportunitiesfortrek. Through perseverance and courage, the romance becomes a tale of triumph,muchlike an mystery.\n"
     ]
    }
   ],
   "source": [
    "import gensim.downloader as api\n",
    "model = api.load(\"glove-wiki-gigaword-50\")\n",
    "def construct_paragraph(seed_word, similar_words):\n",
    "    paragraph = (\n",
    "    f\"In the spirit of {seed_word}, one might embark on an unforgettable {similar_words[0][0]}\"f\"to distant lands. Every {similar_words[1][0]} brings new challenges and opportunitiesfor{similar_words[2][0]}. \"\n",
    "    f\"Through perseverance and courage, the {similar_words[3][0]} becomes a tale of triumph,muchlike an {similar_words[4][0]}.\"\n",
    "    )\n",
    "    return paragraph\n",
    "seed_word = \"adventure\"\n",
    "similar_words = model.most_similar(seed_word, topn=5)\n",
    "paragraph = construct_paragraph(seed_word, similar_words)\n",
    "print(paragraph)"
   ]
  },
  {
   "cell_type": "code",
   "execution_count": 3,
   "metadata": {},
   "outputs": [
    {
     "name": "stderr",
     "output_type": "stream",
     "text": [
      "Device set to use cpu\n",
      "Truncation was not explicitly activated but `max_length` is provided a specific value, please use `truncation=True` to explicitly truncate examples to max length. Defaulting to 'longest_first' truncation strategy. If you encode pairs of sequences (GLUE-style) with the tokenizer you can select this strategy more precisely by providing a specific strategy to `truncation`.\n",
      "Setting `pad_token_id` to `eos_token_id`:50256 for open-end generation.\n",
      "Both `max_new_tokens` (=256) and `max_length`(=100) seem to have been set. `max_new_tokens` will take precedence. Please refer to the documentation for more information. (https://huggingface.co/docs/transformers/main/en/main_classes/text_generation)\n"
     ]
    },
    {
     "name": "stdout",
     "output_type": "stream",
     "text": [
      "Write a story about adventure, including elements of adventures, fantasy, trek, romance, mystery. Join our community and get involved.\n",
      "\n",
      "Join our community and get involved. Join our community and get involved. Join our community and get involved. Join our community and get involved. Join our community and get involved. Join our community and get involved. Join our community and get involved. Join our community and get involved. Join our community and get involved. Join our community and get involved. Join our community and get involved. Join our community and get involved. Join our community and get involved. Join our community and get involved. Join our community and get involved. Join our community and get involved. Join our community and get involved. Join our community and get involved. Join our community and get involved. Join our community and get involved. Join our community and get involved. Join our community and get involved. Join our community and get involved. Join our community and get involved. Join our community and get involved. Join our community and get involved. Join our community and get involved. Join our community and get involved. Join our community and get involved. Join our community and get involved. Join our community and get involved. Join our community and get involved. Join our community and get involved. Join our community and get involved. Join our community and get involved. Join our\n"
     ]
    }
   ],
   "source": [
    "from transformers import pipeline\n",
    "import gensim.downloader as api\n",
    "glove_model = api.load(\"glove-wiki-gigaword-50\")\n",
    "def get_similar_words(model, word, topn=5):\n",
    "    return [w for w, _ in model.most_similar(word, topn=topn)]\n",
    "generator = pipeline(\"text-generation\", model=\"gpt2\")\n",
    "def generate_story(prompt, max_length=100):\n",
    "    response = generator(prompt, max_length=max_length, num_return_sequences=1)\n",
    "    return response[0]['generated_text']\n",
    "seed_word = \"adventure\"\n",
    "similar_words = get_similar_words(glove_model, seed_word, topn=5)\n",
    "prompt = f\"Write a story about {seed_word}, including elements of {', '.join(similar_words)}.\"\n",
    "story = generate_story(prompt)\n",
    "print(story)\n"
   ]
  }
 ],
 "metadata": {
  "kernelspec": {
   "display_name": "Python 3",
   "language": "python",
   "name": "python3"
  },
  "language_info": {
   "codemirror_mode": {
    "name": "ipython",
    "version": 3
   },
   "file_extension": ".py",
   "mimetype": "text/x-python",
   "name": "python",
   "nbconvert_exporter": "python",
   "pygments_lexer": "ipython3",
   "version": "3.11.9"
  }
 },
 "nbformat": 4,
 "nbformat_minor": 2
}
